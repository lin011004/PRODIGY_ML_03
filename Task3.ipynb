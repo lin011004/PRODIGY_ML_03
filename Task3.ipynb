{
 "cells": [
  {
   "cell_type": "code",
   "execution_count": 1,
   "id": "10f3d2c2-b86f-45af-8e18-dcfbd1cd4569",
   "metadata": {},
   "outputs": [],
   "source": [
    "import os\n",
    "import numpy as np\n",
    "from sklearn.svm import SVC\n",
    "from sklearn.metrics import classification_report, confusion_matrix\n",
    "import matplotlib.pyplot as plt\n",
    "from tqdm import tqdm\n",
    "import joblib\n",
    "from sklearn.model_selection import GridSearchCV\n",
    "import cv2\n",
    "import seaborn as sns\n",
    "import time\n",
    "from sklearn.decomposition import PCA\n",
    "from sklearn.pipeline import Pipeline\n",
    "from sklearn.model_selection import train_test_split"
   ]
  },
  {
   "cell_type": "code",
   "execution_count": 2,
   "id": "3d7e6314-c46a-48b9-a8e1-b4b7f6e65267",
   "metadata": {},
   "outputs": [],
   "source": [
    "folder_path = f\"E:\\\\ML Intern\\\\task 3 csv files\"\n",
    "os.makedirs(folder_path, exist_ok=True)\n",
    "\n",
    "# define path\n",
    "confusion_image_path = os.path.join(folder_path, 'confusion matrix.png')\n",
    "classification_file_path = os.path.join(folder_path, 'classification_report.txt')\n",
    "model_file_path = os.path.join(folder_path, \"svm_model.pkl\")\n",
    "\n",
    "# Path dataset\n",
    "dataset_dir = \"E:\\\\ML Intern\\\\task 3 csv files\"\n",
    "train_dir = os.path.join(dataset_dir, \"train\")\n",
    "test_dir = os.path.join(dataset_dir, \"test1\")"
   ]
  },
  {
   "cell_type": "code",
   "execution_count": 3,
   "id": "611af417-c4bb-44e0-a71f-eb5b30d01433",
   "metadata": {},
   "outputs": [
    {
     "name": "stderr",
     "output_type": "stream",
     "text": [
      "Processing Train Images: 100%|█████████████████████████████████████████████████████| 1002/1002 [00:25<00:00, 39.16it/s]\n"
     ]
    }
   ],
   "source": [
    "# load data, preprocessing data, and labeling\n",
    "# dog = 1, cat = 0\n",
    "train_images = os.listdir(train_dir)\n",
    "features = []\n",
    "labels = []\n",
    "image_size = (50, 50)\n",
    "\n",
    "# Process train images\n",
    "for image in tqdm(train_images, desc=\"Processing Train Images\"):\n",
    "    if image[0:3] == 'cat' :\n",
    "        label = 0\n",
    "    else :\n",
    "        label = 1\n",
    "    image_read = cv2.imread(train_dir+\"/\"+image)\n",
    "    image_resized = cv2.resize(image_read, image_size)\n",
    "    image_normalized = image_resized / 255.0\n",
    "    image_flatten = image_normalized.flatten()\n",
    "    features.append(image_flatten)\n",
    "    labels.append(label)"
   ]
  },
  {
   "cell_type": "code",
   "execution_count": 4,
   "id": "0b90d96e-935f-4bda-9631-45b72d781bc5",
   "metadata": {},
   "outputs": [],
   "source": [
    "del train_images"
   ]
  },
  {
   "cell_type": "code",
   "execution_count": 5,
   "id": "1bbf89f3-511b-42bc-bc52-b72ae7b2f695",
   "metadata": {},
   "outputs": [],
   "source": [
    "features = np.asarray(features)\n",
    "labels = np.asarray(labels)\n",
    "\n",
    "# train test split\n",
    "X_train, X_test, y_train, y_test = train_test_split(features, labels, test_size=0.2, shuffle=True, random_state=42)"
   ]
  },
  {
   "cell_type": "code",
   "execution_count": 6,
   "id": "a48d30ec-88b2-436b-8c42-13f691758a2e",
   "metadata": {},
   "outputs": [],
   "source": [
    "del features\n",
    "del labels"
   ]
  },
  {
   "cell_type": "code",
   "execution_count": 7,
   "id": "654cd5a3-0f94-47c6-ab1c-cdc0179619fc",
   "metadata": {},
   "outputs": [],
   "source": [
    "# PCA, SVM, & Pipeline\n",
    "n_components = 0.8\n",
    "pca = PCA(n_components=n_components)\n",
    "svm = SVC()\n",
    "pca = PCA(n_components=n_components, random_state=42)\n",
    "pipeline = Pipeline([\n",
    "    ('pca', pca),\n",
    "    ('svm', svm)\n",
    "])"
   ]
  },
  {
   "cell_type": "code",
   "execution_count": 8,
   "id": "7f5d6e24-ad3b-4db4-8ea0-43fcef747bf3",
   "metadata": {},
   "outputs": [],
   "source": [
    "param_grid = {\n",
    "    'pca__n_components': [2, 1, 0.9, 0.8],\n",
    "    'svm__kernel': ['linear', 'rbf', 'poly', 'sigmoid'],\n",
    "}"
   ]
  },
  {
   "cell_type": "code",
   "execution_count": 9,
   "id": "bb11176c-8fa6-46b0-81bd-195641640a56",
   "metadata": {},
   "outputs": [
    {
     "name": "stdout",
     "output_type": "stream",
     "text": [
      "Fitting 3 folds for each of 16 candidates, totalling 48 fits\n",
      "[CV 1/3] END pca__n_components=2, svm__kernel=linear;, score=0.483 total time=   0.5s\n",
      "[CV 2/3] END pca__n_components=2, svm__kernel=linear;, score=0.506 total time=   0.4s\n",
      "[CV 3/3] END pca__n_components=2, svm__kernel=linear;, score=0.479 total time=   0.4s\n",
      "[CV 1/3] END pca__n_components=2, svm__kernel=rbf;, score=0.607 total time=   0.4s\n",
      "[CV 2/3] END pca__n_components=2, svm__kernel=rbf;, score=0.536 total time=   0.3s\n",
      "[CV 3/3] END pca__n_components=2, svm__kernel=rbf;, score=0.509 total time=   0.3s\n",
      "[CV 1/3] END pca__n_components=2, svm__kernel=poly;, score=0.502 total time=   0.2s\n",
      "[CV 2/3] END pca__n_components=2, svm__kernel=poly;, score=0.502 total time=   0.3s\n",
      "[CV 3/3] END pca__n_components=2, svm__kernel=poly;, score=0.491 total time=   0.3s\n",
      "[CV 1/3] END pca__n_components=2, svm__kernel=sigmoid;, score=0.483 total time=   0.3s\n",
      "[CV 2/3] END pca__n_components=2, svm__kernel=sigmoid;, score=0.494 total time=   0.3s\n",
      "[CV 3/3] END pca__n_components=2, svm__kernel=sigmoid;, score=0.517 total time=   0.3s\n",
      "[CV 1/3] END pca__n_components=1, svm__kernel=linear;, score=0.502 total time=   0.3s\n",
      "[CV 2/3] END pca__n_components=1, svm__kernel=linear;, score=0.506 total time=   0.3s\n",
      "[CV 3/3] END pca__n_components=1, svm__kernel=linear;, score=0.472 total time=   0.3s\n",
      "[CV 1/3] END pca__n_components=1, svm__kernel=rbf;, score=0.513 total time=   0.3s\n",
      "[CV 2/3] END pca__n_components=1, svm__kernel=rbf;, score=0.521 total time=   0.4s\n",
      "[CV 3/3] END pca__n_components=1, svm__kernel=rbf;, score=0.502 total time=   0.3s\n",
      "[CV 1/3] END pca__n_components=1, svm__kernel=poly;, score=0.502 total time=   0.3s\n",
      "[CV 2/3] END pca__n_components=1, svm__kernel=poly;, score=0.506 total time=   0.3s\n",
      "[CV 3/3] END pca__n_components=1, svm__kernel=poly;, score=0.494 total time=   0.3s\n",
      "[CV 1/3] END pca__n_components=1, svm__kernel=sigmoid;, score=0.513 total time=   0.3s\n",
      "[CV 2/3] END pca__n_components=1, svm__kernel=sigmoid;, score=0.457 total time=   0.2s\n",
      "[CV 3/3] END pca__n_components=1, svm__kernel=sigmoid;, score=0.494 total time=   0.3s\n",
      "[CV 1/3] END pca__n_components=0.9, svm__kernel=linear;, score=0.558 total time=  12.6s\n",
      "[CV 2/3] END pca__n_components=0.9, svm__kernel=linear;, score=0.558 total time=  10.5s\n",
      "[CV 3/3] END pca__n_components=0.9, svm__kernel=linear;, score=0.543 total time=  10.8s\n",
      "[CV 1/3] END pca__n_components=0.9, svm__kernel=rbf;, score=0.607 total time=   4.4s\n",
      "[CV 2/3] END pca__n_components=0.9, svm__kernel=rbf;, score=0.539 total time=   4.2s\n",
      "[CV 3/3] END pca__n_components=0.9, svm__kernel=rbf;, score=0.543 total time=   4.5s\n",
      "[CV 1/3] END pca__n_components=0.9, svm__kernel=poly;, score=0.524 total time=   4.1s\n",
      "[CV 2/3] END pca__n_components=0.9, svm__kernel=poly;, score=0.513 total time=   4.0s\n",
      "[CV 3/3] END pca__n_components=0.9, svm__kernel=poly;, score=0.558 total time=   4.5s\n",
      "[CV 1/3] END pca__n_components=0.9, svm__kernel=sigmoid;, score=0.513 total time=   4.3s\n",
      "[CV 2/3] END pca__n_components=0.9, svm__kernel=sigmoid;, score=0.562 total time=   4.0s\n",
      "[CV 3/3] END pca__n_components=0.9, svm__kernel=sigmoid;, score=0.566 total time=   4.4s\n",
      "[CV 1/3] END pca__n_components=0.8, svm__kernel=linear;, score=0.543 total time=   6.1s\n",
      "[CV 2/3] END pca__n_components=0.8, svm__kernel=linear;, score=0.558 total time=   6.7s\n",
      "[CV 3/3] END pca__n_components=0.8, svm__kernel=linear;, score=0.532 total time=   6.1s\n",
      "[CV 1/3] END pca__n_components=0.8, svm__kernel=rbf;, score=0.607 total time=   4.0s\n",
      "[CV 2/3] END pca__n_components=0.8, svm__kernel=rbf;, score=0.524 total time=   4.4s\n",
      "[CV 3/3] END pca__n_components=0.8, svm__kernel=rbf;, score=0.551 total time=   4.4s\n",
      "[CV 1/3] END pca__n_components=0.8, svm__kernel=poly;, score=0.532 total time=   4.3s\n",
      "[CV 2/3] END pca__n_components=0.8, svm__kernel=poly;, score=0.539 total time=   4.3s\n",
      "[CV 3/3] END pca__n_components=0.8, svm__kernel=poly;, score=0.551 total time=   4.1s\n",
      "[CV 1/3] END pca__n_components=0.8, svm__kernel=sigmoid;, score=0.517 total time=   4.1s\n",
      "[CV 2/3] END pca__n_components=0.8, svm__kernel=sigmoid;, score=0.573 total time=   4.2s\n",
      "[CV 3/3] END pca__n_components=0.8, svm__kernel=sigmoid;, score=0.528 total time=   4.3s\n"
     ]
    }
   ],
   "source": [
    "# Calculate training time\n",
    "start_time = time.time()\n",
    "\n",
    "grid_search = GridSearchCV(pipeline, param_grid, cv=3, verbose=4)\n",
    "grid_search.fit(X_train, y_train)\n",
    "end_time = time.time()"
   ]
  },
  {
   "cell_type": "code",
   "execution_count": 10,
   "id": "d06912dc-8e7f-4a08-8d0b-aa0a86e75f4d",
   "metadata": {},
   "outputs": [],
   "source": [
    "del X_train\n",
    "del y_train"
   ]
  },
  {
   "cell_type": "code",
   "execution_count": 11,
   "id": "f8639ec4-2f14-485e-ab52-d300dec764e5",
   "metadata": {},
   "outputs": [
    {
     "name": "stdout",
     "output_type": "stream",
     "text": [
      "Best Parameters:  {'pca__n_components': 0.9, 'svm__kernel': 'rbf'}\n",
      "Best Score:  0.5630461922596754\n"
     ]
    }
   ],
   "source": [
    "# Obtaining the best model and the best parameters\n",
    "best_pipeline = grid_search.best_estimator_\n",
    "best_params = grid_search.best_params_\n",
    "best_score = grid_search.best_score_\n",
    "\n",
    "print(\"Best Parameters: \", best_params)\n",
    "print(\"Best Score: \", best_score)"
   ]
  },
  {
   "cell_type": "code",
   "execution_count": 12,
   "id": "79d5856d-5d91-468e-8ed0-aea5bebe7453",
   "metadata": {},
   "outputs": [
    {
     "name": "stdout",
     "output_type": "stream",
     "text": [
      "Accuracy: 0.6318407960199005\n"
     ]
    }
   ],
   "source": [
    "# Evaluation on test dataset\n",
    "accuracy = best_pipeline.score(X_test, y_test)\n",
    "print(\"Accuracy:\", accuracy)"
   ]
  },
  {
   "cell_type": "code",
   "execution_count": 13,
   "id": "0310a095-0c99-4841-b3d2-59b1782a012c",
   "metadata": {},
   "outputs": [
    {
     "name": "stdout",
     "output_type": "stream",
     "text": [
      "Classification Report:\n",
      "               precision    recall  f1-score   support\n",
      "\n",
      "         Cat       0.62      0.63      0.62        97\n",
      "         Dog       0.65      0.63      0.64       104\n",
      "\n",
      "    accuracy                           0.63       201\n",
      "   macro avg       0.63      0.63      0.63       201\n",
      "weighted avg       0.63      0.63      0.63       201\n",
      "\n"
     ]
    }
   ],
   "source": [
    "y_pred = best_pipeline.predict(X_test)\n",
    "\n",
    "# classification report\n",
    "target_names = ['Cat', 'Dog']\n",
    "classification_rep = classification_report(y_test, y_pred, target_names=target_names)\n",
    "print(\"Classification Report:\\n\", classification_rep)\n",
    "\n",
    "with open(classification_file_path, 'w') as file:\n",
    "    file.write(classification_rep)"
   ]
  },
  {
   "cell_type": "code",
   "execution_count": 14,
   "id": "b9084504-17f6-407e-b4ea-6ae3b7246f69",
   "metadata": {},
   "outputs": [
    {
     "data": {
      "image/png": "[encoded data removed]",
      "text/plain": [
       "<Figure size 640x480 with 2 Axes>"
      ]
     },
     "metadata": {},
     "output_type": "display_data"
    }
   ],
   "source": [
    "# Confusion matrix\n",
    "cm = confusion_matrix(y_test, y_pred)\n",
    "sns.heatmap(cm, annot=True, fmt=\"d\", cmap=\"Blues\")\n",
    "plt.xlabel('Predicted labels')\n",
    "plt.ylabel('True labels')\n",
    "plt.savefig(confusion_image_path)\n",
    "plt.show()"
   ]
  },
  {
   "cell_type": "code",
   "execution_count": null,
   "id": "be5a42a8-5f12-4e8f-bd6e-dbe64c2eaeca",
   "metadata": {},
   "outputs": [],
   "source": []
  }
 ],
 "metadata": {
  "kernelspec": {
   "display_name": "Python 3 (ipykernel)",
   "language": "python",
   "name": "python3"
  },
  "language_info": {
   "codemirror_mode": {
    "name": "ipython",
    "version": 3
   },
   "file_extension": ".py",
   "mimetype": "text/x-python",
   "name": "python",
   "nbconvert_exporter": "python",
   "pygments_lexer": "ipython3",
   "version": "3.9.2rc1"
  }
 },
 "nbformat": 4,
 "nbformat_minor": 5
}
